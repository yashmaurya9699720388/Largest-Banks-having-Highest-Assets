{
 "cells": [
  {
   "cell_type": "code",
   "execution_count": 1,
   "metadata": {
    "_cell_guid": "b1076dfc-b9ad-4769-8c92-a6c4dae69d19",
    "_uuid": "8f2839f25d086af736a60e9eeb907d3b93b6e0e5",
    "execution": {
     "iopub.execute_input": "2023-06-30T08:37:44.833654Z",
     "iopub.status.busy": "2023-06-30T08:37:44.833156Z",
     "iopub.status.idle": "2023-06-30T08:37:44.852305Z",
     "shell.execute_reply": "2023-06-30T08:37:44.851134Z"
    },
    "papermill": {
     "duration": 0.034127,
     "end_time": "2023-06-30T08:37:44.854558",
     "exception": false,
     "start_time": "2023-06-30T08:37:44.820431",
     "status": "completed"
    },
    "tags": []
   },
   "outputs": [],
   "source": [
    "import numpy as np # linear algebra\n",
    "import pandas as pd # data processing, CSV file I/O (e.g. pd.read_csv)\n",
    "import seaborn as sns\n",
    "import matplotlib.pyplot as plt"
   ]
  },
  {
   "cell_type": "code",
   "execution_count": null,
   "metadata": {
    "execution": {
     "iopub.execute_input": "2023-06-30T08:37:44.898867Z",
     "iopub.status.busy": "2023-06-30T08:37:44.898448Z",
     "iopub.status.idle": "2023-06-30T08:37:46.377582Z",
     "shell.execute_reply": "2023-06-30T08:37:46.376272Z"
    },
    "papermill": {
     "duration": 1.493592,
     "end_time": "2023-06-30T08:37:46.380336",
     "exception": false,
     "start_time": "2023-06-30T08:37:44.886744",
     "status": "completed"
    },
    "tags": []
   },
   "outputs": [],
   "source": []
  },
  {
   "cell_type": "code",
   "execution_count": 2,
   "metadata": {
    "execution": {
     "iopub.execute_input": "2023-06-30T08:37:46.403244Z",
     "iopub.status.busy": "2023-06-30T08:37:46.402849Z",
     "iopub.status.idle": "2023-06-30T08:37:46.450327Z",
     "shell.execute_reply": "2023-06-30T08:37:46.449278Z"
    },
    "papermill": {
     "duration": 0.061883,
     "end_time": "2023-06-30T08:37:46.452857",
     "exception": false,
     "start_time": "2023-06-30T08:37:46.390974",
     "status": "completed"
    },
    "scrolled": true,
    "tags": []
   },
   "outputs": [
    {
     "data": {
      "text/html": [
       "<div>\n",
       "<style scoped>\n",
       "    .dataframe tbody tr th:only-of-type {\n",
       "        vertical-align: middle;\n",
       "    }\n",
       "\n",
       "    .dataframe tbody tr th {\n",
       "        vertical-align: top;\n",
       "    }\n",
       "\n",
       "    .dataframe thead th {\n",
       "        text-align: right;\n",
       "    }\n",
       "</style>\n",
       "<table border=\"1\" class=\"dataframe\">\n",
       "  <thead>\n",
       "    <tr style=\"text-align: right;\">\n",
       "      <th></th>\n",
       "      <th>Rank</th>\n",
       "      <th>Bank name</th>\n",
       "      <th>Country</th>\n",
       "      <th>Total assets 2022 (US$ billion)</th>\n",
       "    </tr>\n",
       "  </thead>\n",
       "  <tbody>\n",
       "    <tr>\n",
       "      <th>0</th>\n",
       "      <td>1</td>\n",
       "      <td>Industrial and Commercial Bank of China Limited</td>\n",
       "      <td>China</td>\n",
       "      <td>5742.86</td>\n",
       "    </tr>\n",
       "    <tr>\n",
       "      <th>1</th>\n",
       "      <td>2</td>\n",
       "      <td>China Construction Bank</td>\n",
       "      <td>China</td>\n",
       "      <td>5016.81</td>\n",
       "    </tr>\n",
       "    <tr>\n",
       "      <th>2</th>\n",
       "      <td>3</td>\n",
       "      <td>Agricultural Bank of China</td>\n",
       "      <td>China</td>\n",
       "      <td>4919.03</td>\n",
       "    </tr>\n",
       "    <tr>\n",
       "      <th>3</th>\n",
       "      <td>4</td>\n",
       "      <td>Bank of China</td>\n",
       "      <td>China</td>\n",
       "      <td>4192.12</td>\n",
       "    </tr>\n",
       "    <tr>\n",
       "      <th>4</th>\n",
       "      <td>5</td>\n",
       "      <td>JPMorgan Chase</td>\n",
       "      <td>United States of America</td>\n",
       "      <td>3665.74</td>\n",
       "    </tr>\n",
       "  </tbody>\n",
       "</table>\n",
       "</div>"
      ],
      "text/plain": [
       "   Rank                                         Bank name  \\\n",
       "0     1   Industrial and Commercial Bank of China Limited   \n",
       "1     2                           China Construction Bank   \n",
       "2     3                        Agricultural Bank of China   \n",
       "3     4                                     Bank of China   \n",
       "4     5                                    JPMorgan Chase   \n",
       "\n",
       "                    Country  Total assets 2022 (US$ billion)  \n",
       "0                     China                          5742.86  \n",
       "1                     China                          5016.81  \n",
       "2                     China                          4919.03  \n",
       "3                     China                          4192.12  \n",
       "4  United States of America                          3665.74  "
      ]
     },
     "execution_count": 2,
     "metadata": {},
     "output_type": "execute_result"
    }
   ],
   "source": [
    "df=pd.read_csv(\"Largest-Banks.csv\")\n",
    "df.head()"
   ]
  },
  {
   "cell_type": "code",
   "execution_count": 3,
   "metadata": {},
   "outputs": [
    {
     "data": {
      "text/html": [
       "<div>\n",
       "<style scoped>\n",
       "    .dataframe tbody tr th:only-of-type {\n",
       "        vertical-align: middle;\n",
       "    }\n",
       "\n",
       "    .dataframe tbody tr th {\n",
       "        vertical-align: top;\n",
       "    }\n",
       "\n",
       "    .dataframe thead th {\n",
       "        text-align: right;\n",
       "    }\n",
       "</style>\n",
       "<table border=\"1\" class=\"dataframe\">\n",
       "  <thead>\n",
       "    <tr style=\"text-align: right;\">\n",
       "      <th></th>\n",
       "      <th>Rank</th>\n",
       "      <th>Bank name</th>\n",
       "      <th>Country</th>\n",
       "      <th>Total assets 2022 (US$ billion)</th>\n",
       "    </tr>\n",
       "  </thead>\n",
       "  <tbody>\n",
       "    <tr>\n",
       "      <th>95</th>\n",
       "      <td>96</td>\n",
       "      <td>National Bank of Canada</td>\n",
       "      <td>Canada</td>\n",
       "      <td>312.67</td>\n",
       "    </tr>\n",
       "    <tr>\n",
       "      <th>96</th>\n",
       "      <td>97</td>\n",
       "      <td>Macquarie Group</td>\n",
       "      <td>Australia</td>\n",
       "      <td>313.47</td>\n",
       "    </tr>\n",
       "    <tr>\n",
       "      <th>97</th>\n",
       "      <td>98</td>\n",
       "      <td>Nationwide Building Society</td>\n",
       "      <td>United Kingdom</td>\n",
       "      <td>311.93</td>\n",
       "    </tr>\n",
       "    <tr>\n",
       "      <th>98</th>\n",
       "      <td>99</td>\n",
       "      <td>Raiffeisen Gruppe</td>\n",
       "      <td>Switzerland</td>\n",
       "      <td>303.50</td>\n",
       "    </tr>\n",
       "    <tr>\n",
       "      <th>99</th>\n",
       "      <td>100</td>\n",
       "      <td>First Abu Dhabi Bank</td>\n",
       "      <td>United Arab Emirates</td>\n",
       "      <td>302.22</td>\n",
       "    </tr>\n",
       "  </tbody>\n",
       "</table>\n",
       "</div>"
      ],
      "text/plain": [
       "    Rank                     Bank name               Country  \\\n",
       "95    96       National Bank of Canada                Canada   \n",
       "96    97               Macquarie Group             Australia   \n",
       "97    98   Nationwide Building Society        United Kingdom   \n",
       "98    99             Raiffeisen Gruppe           Switzerland   \n",
       "99   100          First Abu Dhabi Bank  United Arab Emirates   \n",
       "\n",
       "    Total assets 2022 (US$ billion)  \n",
       "95                           312.67  \n",
       "96                           313.47  \n",
       "97                           311.93  \n",
       "98                           303.50  \n",
       "99                           302.22  "
      ]
     },
     "execution_count": 3,
     "metadata": {},
     "output_type": "execute_result"
    }
   ],
   "source": [
    "df.tail()"
   ]
  },
  {
   "cell_type": "code",
   "execution_count": 4,
   "metadata": {
    "execution": {
     "iopub.execute_input": "2023-06-30T08:37:46.478521Z",
     "iopub.status.busy": "2023-06-30T08:37:46.477382Z",
     "iopub.status.idle": "2023-06-30T08:37:46.484554Z",
     "shell.execute_reply": "2023-06-30T08:37:46.483688Z"
    },
    "papermill": {
     "duration": 0.022372,
     "end_time": "2023-06-30T08:37:46.486690",
     "exception": false,
     "start_time": "2023-06-30T08:37:46.464318",
     "status": "completed"
    },
    "tags": []
   },
   "outputs": [
    {
     "data": {
      "text/plain": [
       "(100, 4)"
      ]
     },
     "execution_count": 4,
     "metadata": {},
     "output_type": "execute_result"
    }
   ],
   "source": [
    "df.shape"
   ]
  },
  {
   "cell_type": "code",
   "execution_count": 5,
   "metadata": {
    "execution": {
     "iopub.execute_input": "2023-06-30T08:37:46.511916Z",
     "iopub.status.busy": "2023-06-30T08:37:46.511060Z",
     "iopub.status.idle": "2023-06-30T08:37:46.539299Z",
     "shell.execute_reply": "2023-06-30T08:37:46.538083Z"
    },
    "papermill": {
     "duration": 0.043574,
     "end_time": "2023-06-30T08:37:46.541716",
     "exception": false,
     "start_time": "2023-06-30T08:37:46.498142",
     "status": "completed"
    },
    "tags": []
   },
   "outputs": [
    {
     "name": "stdout",
     "output_type": "stream",
     "text": [
      "<class 'pandas.core.frame.DataFrame'>\n",
      "RangeIndex: 100 entries, 0 to 99\n",
      "Data columns (total 4 columns):\n",
      " #   Column                           Non-Null Count  Dtype  \n",
      "---  ------                           --------------  -----  \n",
      " 0   Rank                             100 non-null    int64  \n",
      " 1   Bank name                        100 non-null    object \n",
      " 2   Country                          100 non-null    object \n",
      " 3   Total assets 2022 (US$ billion)  100 non-null    float64\n",
      "dtypes: float64(1), int64(1), object(2)\n",
      "memory usage: 3.2+ KB\n"
     ]
    }
   ],
   "source": [
    "df.info()"
   ]
  },
  {
   "cell_type": "code",
   "execution_count": 6,
   "metadata": {
    "execution": {
     "iopub.execute_input": "2023-06-30T08:37:46.567999Z",
     "iopub.status.busy": "2023-06-30T08:37:46.567299Z",
     "iopub.status.idle": "2023-06-30T08:37:46.584849Z",
     "shell.execute_reply": "2023-06-30T08:37:46.584045Z"
    },
    "papermill": {
     "duration": 0.032308,
     "end_time": "2023-06-30T08:37:46.586828",
     "exception": false,
     "start_time": "2023-06-30T08:37:46.554520",
     "status": "completed"
    },
    "tags": []
   },
   "outputs": [
    {
     "data": {
      "text/html": [
       "<div>\n",
       "<style scoped>\n",
       "    .dataframe tbody tr th:only-of-type {\n",
       "        vertical-align: middle;\n",
       "    }\n",
       "\n",
       "    .dataframe tbody tr th {\n",
       "        vertical-align: top;\n",
       "    }\n",
       "\n",
       "    .dataframe thead th {\n",
       "        text-align: right;\n",
       "    }\n",
       "</style>\n",
       "<table border=\"1\" class=\"dataframe\">\n",
       "  <thead>\n",
       "    <tr style=\"text-align: right;\">\n",
       "      <th></th>\n",
       "      <th>Rank</th>\n",
       "      <th>Total assets 2022 (US$ billion)</th>\n",
       "    </tr>\n",
       "  </thead>\n",
       "  <tbody>\n",
       "    <tr>\n",
       "      <th>count</th>\n",
       "      <td>100.000000</td>\n",
       "      <td>100.000000</td>\n",
       "    </tr>\n",
       "    <tr>\n",
       "      <th>mean</th>\n",
       "      <td>50.500000</td>\n",
       "      <td>1119.201100</td>\n",
       "    </tr>\n",
       "    <tr>\n",
       "      <th>std</th>\n",
       "      <td>29.011492</td>\n",
       "      <td>1076.163241</td>\n",
       "    </tr>\n",
       "    <tr>\n",
       "      <th>min</th>\n",
       "      <td>1.000000</td>\n",
       "      <td>302.220000</td>\n",
       "    </tr>\n",
       "    <tr>\n",
       "      <th>25%</th>\n",
       "      <td>25.750000</td>\n",
       "      <td>415.735000</td>\n",
       "    </tr>\n",
       "    <tr>\n",
       "      <th>50%</th>\n",
       "      <td>50.500000</td>\n",
       "      <td>677.285000</td>\n",
       "    </tr>\n",
       "    <tr>\n",
       "      <th>75%</th>\n",
       "      <td>75.250000</td>\n",
       "      <td>1448.850000</td>\n",
       "    </tr>\n",
       "    <tr>\n",
       "      <th>max</th>\n",
       "      <td>100.000000</td>\n",
       "      <td>5742.860000</td>\n",
       "    </tr>\n",
       "  </tbody>\n",
       "</table>\n",
       "</div>"
      ],
      "text/plain": [
       "             Rank  Total assets 2022 (US$ billion)\n",
       "count  100.000000                       100.000000\n",
       "mean    50.500000                      1119.201100\n",
       "std     29.011492                      1076.163241\n",
       "min      1.000000                       302.220000\n",
       "25%     25.750000                       415.735000\n",
       "50%     50.500000                       677.285000\n",
       "75%     75.250000                      1448.850000\n",
       "max    100.000000                      5742.860000"
      ]
     },
     "execution_count": 6,
     "metadata": {},
     "output_type": "execute_result"
    }
   ],
   "source": [
    "df.describe()"
   ]
  },
  {
   "cell_type": "code",
   "execution_count": 7,
   "metadata": {
    "execution": {
     "iopub.execute_input": "2023-06-30T08:37:46.610860Z",
     "iopub.status.busy": "2023-06-30T08:37:46.610480Z",
     "iopub.status.idle": "2023-06-30T08:37:46.618459Z",
     "shell.execute_reply": "2023-06-30T08:37:46.617705Z"
    },
    "papermill": {
     "duration": 0.022317,
     "end_time": "2023-06-30T08:37:46.620396",
     "exception": false,
     "start_time": "2023-06-30T08:37:46.598079",
     "status": "completed"
    },
    "tags": []
   },
   "outputs": [
    {
     "data": {
      "text/plain": [
       "Rank                               0\n",
       "Bank name                          0\n",
       "Country                            0\n",
       "Total assets 2022 (US$ billion)    0\n",
       "dtype: int64"
      ]
     },
     "execution_count": 7,
     "metadata": {},
     "output_type": "execute_result"
    }
   ],
   "source": [
    "df.isnull().sum()"
   ]
  },
  {
   "cell_type": "code",
   "execution_count": 8,
   "metadata": {
    "execution": {
     "iopub.execute_input": "2023-06-30T08:37:46.645045Z",
     "iopub.status.busy": "2023-06-30T08:37:46.644398Z",
     "iopub.status.idle": "2023-06-30T08:37:46.653890Z",
     "shell.execute_reply": "2023-06-30T08:37:46.653131Z"
    },
    "papermill": {
     "duration": 0.024032,
     "end_time": "2023-06-30T08:37:46.655899",
     "exception": false,
     "start_time": "2023-06-30T08:37:46.631867",
     "status": "completed"
    },
    "scrolled": true,
    "tags": []
   },
   "outputs": [
    {
     "data": {
      "text/plain": [
       "Rank                               100\n",
       "Bank name                          100\n",
       "Country                             25\n",
       "Total assets 2022 (US$ billion)    100\n",
       "dtype: int64"
      ]
     },
     "execution_count": 8,
     "metadata": {},
     "output_type": "execute_result"
    }
   ],
   "source": [
    "df.nunique()"
   ]
  },
  {
   "cell_type": "code",
   "execution_count": 9,
   "metadata": {},
   "outputs": [],
   "source": [
    "# Handle missing values \n",
    "df.fillna(df.mean(), inplace=True)"
   ]
  },
  {
   "cell_type": "markdown",
   "metadata": {
    "papermill": {
     "duration": 0.011414,
     "end_time": "2023-06-30T08:37:46.679052",
     "exception": false,
     "start_time": "2023-06-30T08:37:46.667638",
     "status": "completed"
    },
    "tags": []
   },
   "source": [
    "## Change Column Name"
   ]
  },
  {
   "cell_type": "code",
   "execution_count": 10,
   "metadata": {
    "execution": {
     "iopub.execute_input": "2023-06-30T08:37:46.704204Z",
     "iopub.status.busy": "2023-06-30T08:37:46.703508Z",
     "iopub.status.idle": "2023-06-30T08:37:46.708475Z",
     "shell.execute_reply": "2023-06-30T08:37:46.707710Z"
    },
    "papermill": {
     "duration": 0.019874,
     "end_time": "2023-06-30T08:37:46.710492",
     "exception": false,
     "start_time": "2023-06-30T08:37:46.690618",
     "status": "completed"
    },
    "tags": []
   },
   "outputs": [],
   "source": [
    "df.rename(columns={df.columns[3]: \"Total assets\"}, inplace=True)\n"
   ]
  },
  {
   "cell_type": "markdown",
   "metadata": {
    "papermill": {
     "duration": 0.011222,
     "end_time": "2023-06-30T08:37:46.733224",
     "exception": false,
     "start_time": "2023-06-30T08:37:46.722002",
     "status": "completed"
    },
    "tags": []
   },
   "source": [
    "### Countries with the Highest Total Assets\n",
    "\n"
   ]
  },
  {
   "cell_type": "code",
   "execution_count": 11,
   "metadata": {
    "execution": {
     "iopub.execute_input": "2023-06-30T08:37:46.758912Z",
     "iopub.status.busy": "2023-06-30T08:37:46.758248Z",
     "iopub.status.idle": "2023-06-30T08:37:46.772557Z",
     "shell.execute_reply": "2023-06-30T08:37:46.771507Z"
    },
    "papermill": {
     "duration": 0.030138,
     "end_time": "2023-06-30T08:37:46.774989",
     "exception": false,
     "start_time": "2023-06-30T08:37:46.744851",
     "status": "completed"
    },
    "tags": []
   },
   "outputs": [
    {
     "data": {
      "text/html": [
       "<div>\n",
       "<style scoped>\n",
       "    .dataframe tbody tr th:only-of-type {\n",
       "        vertical-align: middle;\n",
       "    }\n",
       "\n",
       "    .dataframe tbody tr th {\n",
       "        vertical-align: top;\n",
       "    }\n",
       "\n",
       "    .dataframe thead th {\n",
       "        text-align: right;\n",
       "    }\n",
       "</style>\n",
       "<table border=\"1\" class=\"dataframe\">\n",
       "  <thead>\n",
       "    <tr style=\"text-align: right;\">\n",
       "      <th></th>\n",
       "      <th>Country</th>\n",
       "      <th>Total assets</th>\n",
       "    </tr>\n",
       "  </thead>\n",
       "  <tbody>\n",
       "    <tr>\n",
       "      <th>0</th>\n",
       "      <td>China</td>\n",
       "      <td>34823.85</td>\n",
       "    </tr>\n",
       "    <tr>\n",
       "      <th>1</th>\n",
       "      <td>United States of America</td>\n",
       "      <td>16285.21</td>\n",
       "    </tr>\n",
       "    <tr>\n",
       "      <th>2</th>\n",
       "      <td>Japan</td>\n",
       "      <td>10804.53</td>\n",
       "    </tr>\n",
       "    <tr>\n",
       "      <th>3</th>\n",
       "      <td>France</td>\n",
       "      <td>10594.66</td>\n",
       "    </tr>\n",
       "    <tr>\n",
       "      <th>4</th>\n",
       "      <td>United Kingdom</td>\n",
       "      <td>7745.56</td>\n",
       "    </tr>\n",
       "    <tr>\n",
       "      <th>5</th>\n",
       "      <td>Canada</td>\n",
       "      <td>5961.83</td>\n",
       "    </tr>\n",
       "    <tr>\n",
       "      <th>6</th>\n",
       "      <td>Spain</td>\n",
       "      <td>3220.04</td>\n",
       "    </tr>\n",
       "    <tr>\n",
       "      <th>7</th>\n",
       "      <td>Australia</td>\n",
       "      <td>3153.49</td>\n",
       "    </tr>\n",
       "    <tr>\n",
       "      <th>8</th>\n",
       "      <td>Germany</td>\n",
       "      <td>2955.48</td>\n",
       "    </tr>\n",
       "    <tr>\n",
       "      <th>9</th>\n",
       "      <td>South Korea</td>\n",
       "      <td>2690.23</td>\n",
       "    </tr>\n",
       "    <tr>\n",
       "      <th>10</th>\n",
       "      <td>Netherlands</td>\n",
       "      <td>2111.69</td>\n",
       "    </tr>\n",
       "    <tr>\n",
       "      <th>11</th>\n",
       "      <td>Switzerland</td>\n",
       "      <td>1982.86</td>\n",
       "    </tr>\n",
       "    <tr>\n",
       "      <th>12</th>\n",
       "      <td>Italy</td>\n",
       "      <td>1959.45</td>\n",
       "    </tr>\n",
       "    <tr>\n",
       "      <th>13</th>\n",
       "      <td>Singapore</td>\n",
       "      <td>1348.08</td>\n",
       "    </tr>\n",
       "    <tr>\n",
       "      <th>14</th>\n",
       "      <td>Brazil</td>\n",
       "      <td>1159.69</td>\n",
       "    </tr>\n",
       "    <tr>\n",
       "      <th>15</th>\n",
       "      <td>Russia</td>\n",
       "      <td>901.18</td>\n",
       "    </tr>\n",
       "    <tr>\n",
       "      <th>16</th>\n",
       "      <td>India</td>\n",
       "      <td>694.94</td>\n",
       "    </tr>\n",
       "    <tr>\n",
       "      <th>17</th>\n",
       "      <td>Sweden</td>\n",
       "      <td>670.23</td>\n",
       "    </tr>\n",
       "    <tr>\n",
       "      <th>18</th>\n",
       "      <td>Finland</td>\n",
       "      <td>635.72</td>\n",
       "    </tr>\n",
       "    <tr>\n",
       "      <th>19</th>\n",
       "      <td>Denmark</td>\n",
       "      <td>540.66</td>\n",
       "    </tr>\n",
       "    <tr>\n",
       "      <th>20</th>\n",
       "      <td>Belgium</td>\n",
       "      <td>380.33</td>\n",
       "    </tr>\n",
       "    <tr>\n",
       "      <th>21</th>\n",
       "      <td>Austria</td>\n",
       "      <td>346.12</td>\n",
       "    </tr>\n",
       "    <tr>\n",
       "      <th>22</th>\n",
       "      <td>Norway</td>\n",
       "      <td>328.50</td>\n",
       "    </tr>\n",
       "    <tr>\n",
       "      <th>23</th>\n",
       "      <td>Qatar</td>\n",
       "      <td>323.56</td>\n",
       "    </tr>\n",
       "    <tr>\n",
       "      <th>24</th>\n",
       "      <td>United Arab Emirates</td>\n",
       "      <td>302.22</td>\n",
       "    </tr>\n",
       "  </tbody>\n",
       "</table>\n",
       "</div>"
      ],
      "text/plain": [
       "                     Country  Total assets\n",
       "0                      China      34823.85\n",
       "1   United States of America      16285.21\n",
       "2                      Japan      10804.53\n",
       "3                     France      10594.66\n",
       "4             United Kingdom       7745.56\n",
       "5                     Canada       5961.83\n",
       "6                      Spain       3220.04\n",
       "7                  Australia       3153.49\n",
       "8                    Germany       2955.48\n",
       "9                South Korea       2690.23\n",
       "10               Netherlands       2111.69\n",
       "11               Switzerland       1982.86\n",
       "12                     Italy       1959.45\n",
       "13                 Singapore       1348.08\n",
       "14                    Brazil       1159.69\n",
       "15                    Russia        901.18\n",
       "16                     India        694.94\n",
       "17                    Sweden        670.23\n",
       "18                   Finland        635.72\n",
       "19                   Denmark        540.66\n",
       "20                   Belgium        380.33\n",
       "21                   Austria        346.12\n",
       "22                    Norway        328.50\n",
       "23                     Qatar        323.56\n",
       "24      United Arab Emirates        302.22"
      ]
     },
     "execution_count": 11,
     "metadata": {},
     "output_type": "execute_result"
    }
   ],
   "source": [
    "df2 = df.groupby('Country')['Total assets'].sum().sort_values(ascending=False).reset_index()\n",
    "df2"
   ]
  },
  {
   "cell_type": "code",
   "execution_count": 12,
   "metadata": {
    "execution": {
     "iopub.execute_input": "2023-06-30T08:37:46.801221Z",
     "iopub.status.busy": "2023-06-30T08:37:46.800859Z",
     "iopub.status.idle": "2023-06-30T08:37:47.321385Z",
     "shell.execute_reply": "2023-06-30T08:37:47.320269Z"
    },
    "papermill": {
     "duration": 0.536504,
     "end_time": "2023-06-30T08:37:47.323721",
     "exception": false,
     "start_time": "2023-06-30T08:37:46.787217",
     "status": "completed"
    },
    "tags": []
   },
   "outputs": [
    {
     "data": {
      "image/png": "[encoded data removed]",
      "text/plain": [
       "<Figure size 864x432 with 1 Axes>"
      ]
     },
     "metadata": {
      "needs_background": "light"
     },
     "output_type": "display_data"
    }
   ],
   "source": [
    "df2 = df.groupby('Country')['Total assets'].sum().sort_values(ascending=False).reset_index()\n",
    "\n",
    "plt.figure(figsize=(12, 6))\n",
    "sns.barplot(data=df2, x='Country', y='Total assets')\n",
    "plt.xlabel('Country')\n",
    "plt.ylabel('Total Assets (US$ billion)')\n",
    "plt.title('Total Assets by Country')\n",
    "plt.xticks(rotation=90)\n",
    "plt.show()\n"
   ]
  },
  {
   "cell_type": "code",
   "execution_count": 13,
   "metadata": {
    "papermill": {
     "duration": 0.01264,
     "end_time": "2023-06-30T08:37:47.349330",
     "exception": false,
     "start_time": "2023-06-30T08:37:47.336690",
     "status": "completed"
    },
    "tags": []
   },
   "outputs": [],
   "source": [
    "from sklearn.model_selection import train_test_split\n",
    "from sklearn.preprocessing import OneHotEncoder, StandardScaler\n",
    "from sklearn.linear_model import LinearRegression\n",
    "from sklearn.metrics import mean_squared_error\n",
    "from sklearn.preprocessing import StandardScaler"
   ]
  },
  {
   "cell_type": "markdown",
   "metadata": {},
   "source": [
    "# Encode categorical variables (One-Hot Encoding for 'Country' column)"
   ]
  },
  {
   "cell_type": "code",
   "execution_count": 14,
   "metadata": {},
   "outputs": [],
   "source": [
    "df_encoded = pd.get_dummies(df, columns=['Country'], drop_first=True)\n"
   ]
  },
  {
   "cell_type": "markdown",
   "metadata": {},
   "source": [
    "# Data Preprocessing"
   ]
  },
  {
   "cell_type": "code",
   "execution_count": 15,
   "metadata": {},
   "outputs": [],
   "source": [
    "X = df[['Rank']]  # Use appropriate features\n",
    "y = df['Total assets']"
   ]
  },
  {
   "cell_type": "markdown",
   "metadata": {},
   "source": [
    "# Train-Test Split"
   ]
  },
  {
   "cell_type": "code",
   "execution_count": 16,
   "metadata": {},
   "outputs": [],
   "source": [
    "X_train, X_test, y_train, y_test = train_test_split(X, y, test_size=0.2, random_state=42)"
   ]
  },
  {
   "cell_type": "markdown",
   "metadata": {},
   "source": [
    "# Feature Scaling "
   ]
  },
  {
   "cell_type": "code",
   "execution_count": 17,
   "metadata": {},
   "outputs": [],
   "source": [
    "scaler = StandardScaler()\n",
    "X_train_scaled = scaler.fit_transform(X_train)\n",
    "X_test_scaled = scaler.transform(X_test)"
   ]
  },
  {
   "cell_type": "markdown",
   "metadata": {},
   "source": [
    "# Model Training"
   ]
  },
  {
   "cell_type": "code",
   "execution_count": 18,
   "metadata": {},
   "outputs": [
    {
     "data": {
      "text/plain": [
       "LinearRegression(copy_X=True, fit_intercept=True, n_jobs=None, normalize=False)"
      ]
     },
     "execution_count": 18,
     "metadata": {},
     "output_type": "execute_result"
    }
   ],
   "source": [
    "model = LinearRegression()\n",
    "model.fit(X_train_scaled, y_train)"
   ]
  },
  {
   "cell_type": "markdown",
   "metadata": {},
   "source": [
    "# Model Evaluation"
   ]
  },
  {
   "cell_type": "code",
   "execution_count": 19,
   "metadata": {},
   "outputs": [
    {
     "name": "stdout",
     "output_type": "stream",
     "text": [
      "Mean Squared Error: 708819.593079757\n"
     ]
    }
   ],
   "source": [
    "\n",
    "y_pred = model.predict(X_test_scaled)\n",
    "mse = mean_squared_error(y_test, y_pred)\n",
    "print(f'Mean Squared Error: {mse}')"
   ]
  },
  {
   "cell_type": "markdown",
   "metadata": {},
   "source": [
    "# Model Interpretation:\n",
    "Analyze the coefficients of the linear regression model to understand the impact of each feature on the target variable."
   ]
  },
  {
   "cell_type": "code",
   "execution_count": 20,
   "metadata": {},
   "outputs": [
    {
     "name": "stdout",
     "output_type": "stream",
     "text": [
      "Coefficients: [-813.01029479]\n",
      "Intercept: 1069.548875\n"
     ]
    }
   ],
   "source": [
    "# Access coefficients and intercept\n",
    "coefficients = model.coef_\n",
    "intercept = model.intercept_\n",
    "\n",
    "print(\"Coefficients:\", coefficients)\n",
    "print(\"Intercept:\", intercept)"
   ]
  },
  {
   "cell_type": "markdown",
   "metadata": {},
   "source": [
    "# Visualize Predictions:"
   ]
  },
  {
   "cell_type": "markdown",
   "metadata": {},
   "source": [
    "Plot the actual vs. predicted values to visually assess how well the model is performing."
   ]
  },
  {
   "cell_type": "code",
   "execution_count": 21,
   "metadata": {},
   "outputs": [
    {
     "data": {
      "image/png": "[encoded data removed]",
      "text/plain": [
       "<Figure size 432x288 with 1 Axes>"
      ]
     },
     "metadata": {
      "needs_background": "light"
     },
     "output_type": "display_data"
    }
   ],
   "source": [
    "import matplotlib.pyplot as plt\n",
    "\n",
    "plt.scatter(X_test_scaled, y_test, color='black', label='Actual')\n",
    "plt.scatter(X_test_scaled, y_pred, color='blue', label='Predicted')\n",
    "plt.xlabel('Scaled Rank')\n",
    "plt.ylabel('Total Assets (US$ billion)')\n",
    "plt.legend()\n",
    "plt.show()"
   ]
  },
  {
   "cell_type": "markdown",
   "metadata": {},
   "source": [
    "# Residual Analysis:"
   ]
  },
  {
   "cell_type": "markdown",
   "metadata": {},
   "source": [
    "Check the residuals (the differences between actual and predicted values) to ensure they are normally distributed and do not show a pattern."
   ]
  },
  {
   "cell_type": "code",
   "execution_count": 22,
   "metadata": {},
   "outputs": [
    {
     "data": {
      "image/png": "[encoded data removed]",
      "text/plain": [
       "<Figure size 432x288 with 1 Axes>"
      ]
     },
     "metadata": {
      "needs_background": "light"
     },
     "output_type": "display_data"
    }
   ],
   "source": [
    "residuals = y_test - y_pred\n",
    "\n",
    "plt.scatter(X_test_scaled, residuals)\n",
    "plt.axhline(y=0, color='red', linestyle='--')\n",
    "plt.xlabel('Scaled Rank')\n",
    "plt.ylabel('Residuals')\n",
    "plt.show()\n"
   ]
  },
  {
   "cell_type": "markdown",
   "metadata": {},
   "source": [
    "# Cross-Validation:"
   ]
  },
  {
   "cell_type": "markdown",
   "metadata": {},
   "source": [
    "Perform cross-validation to get a more robust estimate of the model's performance.\n",
    "python"
   ]
  },
  {
   "cell_type": "code",
   "execution_count": 23,
   "metadata": {},
   "outputs": [
    {
     "name": "stdout",
     "output_type": "stream",
     "text": [
      "Cross-Validation Mean Squared Error: 1036086.5390297801\n"
     ]
    }
   ],
   "source": [
    "from sklearn.model_selection import cross_val_score\n",
    "from sklearn.preprocessing import StandardScaler\n",
    "\n",
    "# Assuming 'X' and 'y' are your features and target variable\n",
    "# Feature Scaling\n",
    "scaler = StandardScaler()\n",
    "X_scaled = scaler.fit_transform(X)\n",
    "\n",
    "# Cross-Validation\n",
    "cv_scores = cross_val_score(model, X_scaled, y, cv=5, scoring='neg_mean_squared_error')\n",
    "print(\"Cross-Validation Mean Squared Error:\", -cv_scores.mean())\n"
   ]
  },
  {
   "cell_type": "code",
   "execution_count": null,
   "metadata": {},
   "outputs": [],
   "source": []
  },
  {
   "cell_type": "markdown",
   "metadata": {},
   "source": [
    "# conclusion:"
   ]
  },
  {
   "cell_type": "markdown",
   "metadata": {},
   "source": [
    "In this analysis, I loaded a dataset on the largest banks, performed data preprocessing including handling missing values and one-hot encoding, and engineered a new feature. Utilizing a linear regression model, I trained and evaluated its performance on predicting total assets. The model's performance was assessed using Mean Squared Error, and additional analyses included interpreting coefficients, visualizing predictions, and cross-validation. Opportunities for improvement involve exploring more complex models and further feature analysis."
   ]
  }
 ],
 "metadata": {
  "kernelspec": {
   "display_name": "Python 3",
   "language": "python",
   "name": "python3"
  },
  "language_info": {
   "codemirror_mode": {
    "name": "ipython",
    "version": 3
   },
   "file_extension": ".py",
   "mimetype": "text/x-python",
   "name": "python",
   "nbconvert_exporter": "python",
   "pygments_lexer": "ipython3",
   "version": "3.7.6"
  },
  "papermill": {
   "default_parameters": {},
   "duration": 13.994953,
   "end_time": "2023-06-30T08:37:48.284461",
   "environment_variables": {},
   "exception": null,
   "input_path": "__notebook__.ipynb",
   "output_path": "__notebook__.ipynb",
   "parameters": {},
   "start_time": "2023-06-30T08:37:34.289508",
   "version": "2.4.0"
  }
 },
 "nbformat": 4,
 "nbformat_minor": 5
}
